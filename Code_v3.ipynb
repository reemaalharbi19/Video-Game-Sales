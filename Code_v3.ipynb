{
 "cells": [
  {
   "cell_type": "markdown",
   "id": "e566d5e5",
   "metadata": {},
   "source": [
    "# Setp 0: Import Libraries"
   ]
  },
  {
   "cell_type": "code",
   "execution_count": 3,
   "id": "6cacde18",
   "metadata": {},
   "outputs": [],
   "source": [
    "import pandas as pd\n",
    "import numpy as np\n",
    "import matplotlib.pyplot as plt\n",
    "import seaborn as sns"
   ]
  },
  {
   "cell_type": "markdown",
   "id": "ca2e8b58",
   "metadata": {},
   "source": [
    "# Setp 1: Load Dataset"
   ]
  },
  {
   "cell_type": "code",
   "execution_count": 4,
   "id": "a521d232",
   "metadata": {},
   "outputs": [],
   "source": [
    "df = pd.read_csv(\"vgsales-12-4-2019.csv\")"
   ]
  },
  {
   "cell_type": "code",
   "execution_count": 5,
   "id": "d2dccb6e",
   "metadata": {},
   "outputs": [],
   "source": [
    "df3 = df.copy()"
   ]
  },
  {
   "cell_type": "markdown",
   "id": "9f94a34a",
   "metadata": {},
   "source": [
    "# Setp 2: Clean Dataset"
   ]
  },
  {
   "cell_type": "markdown",
   "id": "46899323",
   "metadata": {},
   "source": [
    "### A. Columns"
   ]
  },
  {
   "cell_type": "markdown",
   "id": "17cce167",
   "metadata": {},
   "source": [
    "### To Call specified columns\n",
    "df.columns =['Rank','Name','basename','basename','Genre', ....]"
   ]
  },
  {
   "cell_type": "markdown",
   "id": "096734a3",
   "metadata": {},
   "source": [
    "### To Drop specified columns\n",
    "df2.drop( columns = ['img_url','NA_Sales','PAL_Sales','JP_Sales', ....], inplace=True )"
   ]
  },
  {
   "cell_type": "code",
   "execution_count": 6,
   "id": "908393d6",
   "metadata": {},
   "outputs": [],
   "source": [
    "# Drop these columns\n",
    "\n",
    "df3.drop( columns = ['ESRB_Rating','VGChartz_Score','Critic_Score','User_Score',\n",
    "                     'Total_Shipped','Global_Sales','NA_Sales','PAL_Sales',\n",
    "                     'JP_Sales','Other_Sales','Year',\n",
    "                     'Last_Update','url','Vgchartzscore','img_url'], inplace=True )"
   ]
  },
  {
   "cell_type": "code",
   "execution_count": 7,
   "id": "03fbedfd",
   "metadata": {},
   "outputs": [],
   "source": [
    "# To make the columns lower case\n",
    "\n",
    "df3.columns = df3.columns.str.lower()"
   ]
  },
  {
   "cell_type": "code",
   "execution_count": 8,
   "id": "11ecfbe3",
   "metadata": {},
   "outputs": [
    {
     "data": {
      "text/plain": [
       "Index(['rank', 'name', 'basename', 'genre', 'platform', 'publisher',\n",
       "       'developer', 'status'],\n",
       "      dtype='object')"
      ]
     },
     "execution_count": 8,
     "metadata": {},
     "output_type": "execute_result"
    }
   ],
   "source": [
    "# To show columns after modify\n",
    "\n",
    "df3.columns"
   ]
  },
  {
   "cell_type": "markdown",
   "id": "853eb5e6",
   "metadata": {},
   "source": [
    "### B. Rows (Cells)"
   ]
  },
  {
   "cell_type": "code",
   "execution_count": 9,
   "id": "b9a16802",
   "metadata": {},
   "outputs": [
    {
     "name": "stdout",
     "output_type": "stream",
     "text": [
      "The count of duplicated is:  0\n"
     ]
    }
   ],
   "source": [
    "# To check duplicate rows\n",
    "\n",
    "print('The count of duplicated is: ' , df.duplicated().sum())"
   ]
  },
  {
   "cell_type": "code",
   "execution_count": 10,
   "id": "d25130d5",
   "metadata": {},
   "outputs": [
    {
     "data": {
      "text/plain": [
       "(55792, 8)"
      ]
     },
     "execution_count": 10,
     "metadata": {},
     "output_type": "execute_result"
    }
   ],
   "source": [
    "# To shape DataFream\n",
    "\n",
    "df3.shape"
   ]
  },
  {
   "cell_type": "code",
   "execution_count": 11,
   "id": "7a47d07f",
   "metadata": {},
   "outputs": [
    {
     "data": {
      "text/plain": [
       "rank          0\n",
       "name          0\n",
       "basename      0\n",
       "genre         0\n",
       "platform      0\n",
       "publisher     0\n",
       "developer    17\n",
       "status        0\n",
       "dtype: int64"
      ]
     },
     "execution_count": 11,
     "metadata": {},
     "output_type": "execute_result"
    }
   ],
   "source": [
    "df3.isna().sum()"
   ]
  },
  {
   "cell_type": "code",
   "execution_count": 12,
   "id": "087e3053",
   "metadata": {},
   "outputs": [],
   "source": [
    "# To Drop null value\n",
    "\n",
    "df3 = df3.replace([ ' ','NaN', 'Na','NA', '#', '?', '/'], np.nan)"
   ]
  },
  {
   "cell_type": "code",
   "execution_count": 13,
   "id": "a5c7b981",
   "metadata": {},
   "outputs": [],
   "source": [
    "# To Drop null value \n",
    "\n",
    "df3.dropna(inplace= True )"
   ]
  },
  {
   "cell_type": "code",
   "execution_count": 14,
   "id": "5a5e963d",
   "metadata": {},
   "outputs": [
    {
     "data": {
      "text/plain": [
       "rank         0.0\n",
       "name         0.0\n",
       "basename     0.0\n",
       "genre        0.0\n",
       "platform     0.0\n",
       "publisher    0.0\n",
       "developer    0.0\n",
       "status       0.0\n",
       "dtype: float64"
      ]
     },
     "execution_count": 14,
     "metadata": {},
     "output_type": "execute_result"
    }
   ],
   "source": [
    "# To check the missing value by %\n",
    "\n",
    "(df3.isna().sum()/df3.shape[0])*100\n",
    "#print('{:.2f}',(df3.isna().sum()/df3.shape[0])*100)"
   ]
  },
  {
   "cell_type": "code",
   "execution_count": 15,
   "id": "c9588d7f",
   "metadata": {},
   "outputs": [
    {
     "data": {
      "text/plain": [
       "rank         0\n",
       "name         0\n",
       "basename     0\n",
       "genre        0\n",
       "platform     0\n",
       "publisher    0\n",
       "developer    0\n",
       "status       0\n",
       "dtype: int64"
      ]
     },
     "execution_count": 15,
     "metadata": {},
     "output_type": "execute_result"
    }
   ],
   "source": [
    "# To check the missing value\n",
    "\n",
    "df3.isna().sum()"
   ]
  },
  {
   "cell_type": "code",
   "execution_count": 16,
   "id": "a9ba140d",
   "metadata": {},
   "outputs": [
    {
     "data": {
      "text/html": [
       "<div>\n",
       "<style scoped>\n",
       "    .dataframe tbody tr th:only-of-type {\n",
       "        vertical-align: middle;\n",
       "    }\n",
       "\n",
       "    .dataframe tbody tr th {\n",
       "        vertical-align: top;\n",
       "    }\n",
       "\n",
       "    .dataframe thead th {\n",
       "        text-align: right;\n",
       "    }\n",
       "</style>\n",
       "<table border=\"1\" class=\"dataframe\">\n",
       "  <thead>\n",
       "    <tr style=\"text-align: right;\">\n",
       "      <th></th>\n",
       "      <th>rank</th>\n",
       "      <th>name</th>\n",
       "      <th>basename</th>\n",
       "      <th>genre</th>\n",
       "      <th>platform</th>\n",
       "      <th>publisher</th>\n",
       "      <th>developer</th>\n",
       "      <th>status</th>\n",
       "    </tr>\n",
       "  </thead>\n",
       "  <tbody>\n",
       "    <tr>\n",
       "      <th>0</th>\n",
       "      <td>1</td>\n",
       "      <td>Wii Sports</td>\n",
       "      <td>wii-sports</td>\n",
       "      <td>Sports</td>\n",
       "      <td>Wii</td>\n",
       "      <td>Nintendo</td>\n",
       "      <td>Nintendo EAD</td>\n",
       "      <td>1</td>\n",
       "    </tr>\n",
       "  </tbody>\n",
       "</table>\n",
       "</div>"
      ],
      "text/plain": [
       "   rank        name    basename   genre platform publisher     developer  \\\n",
       "0     1  Wii Sports  wii-sports  Sports      Wii  Nintendo  Nintendo EAD   \n",
       "\n",
       "   status  \n",
       "0       1  "
      ]
     },
     "execution_count": 16,
     "metadata": {},
     "output_type": "execute_result"
    }
   ],
   "source": [
    "df3.head(1)"
   ]
  },
  {
   "cell_type": "code",
   "execution_count": 17,
   "id": "8ddf4544",
   "metadata": {},
   "outputs": [
    {
     "name": "stdout",
     "output_type": "stream",
     "text": [
      "<class 'pandas.core.frame.DataFrame'>\n",
      "Int64Index: 55775 entries, 0 to 55791\n",
      "Data columns (total 8 columns):\n",
      " #   Column     Non-Null Count  Dtype \n",
      "---  ------     --------------  ----- \n",
      " 0   rank       55775 non-null  int64 \n",
      " 1   name       55775 non-null  object\n",
      " 2   basename   55775 non-null  object\n",
      " 3   genre      55775 non-null  object\n",
      " 4   platform   55775 non-null  object\n",
      " 5   publisher  55775 non-null  object\n",
      " 6   developer  55775 non-null  object\n",
      " 7   status     55775 non-null  int64 \n",
      "dtypes: int64(2), object(6)\n",
      "memory usage: 3.8+ MB\n"
     ]
    }
   ],
   "source": [
    "df3.info()"
   ]
  },
  {
   "cell_type": "code",
   "execution_count": 18,
   "id": "4fd0e80d",
   "metadata": {
    "scrolled": false
   },
   "outputs": [
    {
     "data": {
      "text/plain": [
       "rank          int64\n",
       "name         object\n",
       "basename     object\n",
       "genre        object\n",
       "platform     object\n",
       "publisher    object\n",
       "developer    object\n",
       "status        int64\n",
       "dtype: object"
      ]
     },
     "execution_count": 18,
     "metadata": {},
     "output_type": "execute_result"
    }
   ],
   "source": [
    "df3.dtypes"
   ]
  },
  {
   "cell_type": "code",
   "execution_count": null,
   "id": "6c0107e9",
   "metadata": {},
   "outputs": [],
   "source": []
  },
  {
   "cell_type": "markdown",
   "id": "094c1b31",
   "metadata": {},
   "source": [
    "# Step 3 :EDA"
   ]
  },
  {
   "cell_type": "markdown",
   "id": "d9eba813",
   "metadata": {},
   "source": [
    "The Target Column will be platform "
   ]
  },
  {
   "cell_type": "code",
   "execution_count": 19,
   "id": "c9fb7aff",
   "metadata": {},
   "outputs": [
    {
     "data": {
      "text/plain": [
       "<AxesSubplot:xlabel='platform', ylabel='count'>"
      ]
     },
     "execution_count": 19,
     "metadata": {},
     "output_type": "execute_result"
    },
    {
     "data": {
      "image/png": "[encoded data removed]",
      "text/plain": [
       "<Figure size 720x360 with 1 Axes>"
      ]
     },
     "metadata": {
      "needs_background": "light"
     },
     "output_type": "display_data"
    }
   ],
   "source": [
    "plt.figure(figsize=[10,5])\n",
    "sns.set_style('whitegrid')\n",
    "sns.countplot( x = 'platform', data = df3, palette = 'Pastel1' )"
   ]
  },
  {
   "cell_type": "code",
   "execution_count": 20,
   "id": "0021abe2",
   "metadata": {},
   "outputs": [
    {
     "data": {
      "text/plain": [
       "<AxesSubplot:xlabel='genre', ylabel='count'>"
      ]
     },
     "execution_count": 20,
     "metadata": {},
     "output_type": "execute_result"
    },
    {
     "data": {
      "image/png": "[encoded data removed]",
      "text/plain": [
       "<Figure size 576x360 with 1 Axes>"
      ]
     },
     "metadata": {},
     "output_type": "display_data"
    }
   ],
   "source": [
    "plt.figure(figsize=[8,5])\n",
    "sns.set_style('whitegrid')\n",
    "sns.countplot( x = 'genre', data = df3, palette = 'Pastel1' )"
   ]
  },
  {
   "cell_type": "code",
   "execution_count": 21,
   "id": "3281dd0b",
   "metadata": {
    "scrolled": true
   },
   "outputs": [
    {
     "data": {
      "image/png": "[encoded data removed]",
      "text/plain": [
       "<Figure size 720x360 with 2 Axes>"
      ]
     },
     "metadata": {},
     "output_type": "display_data"
    }
   ],
   "source": [
    "plt.figure(figsize=[10,5])\n",
    "correct = df.corr()\n",
    "sns.heatmap(correct, annot=True);"
   ]
  },
  {
   "cell_type": "code",
   "execution_count": 22,
   "id": "cfac0e72",
   "metadata": {},
   "outputs": [
    {
     "data": {
      "text/plain": [
       "<bound method NDFrame.describe of         rank                           name                      basename  \\\n",
       "0          1                     Wii Sports                    wii-sports   \n",
       "1          2              Super Mario Bros.              super-mario-bros   \n",
       "2          3                 Mario Kart Wii                mario-kart-wii   \n",
       "3          4  PlayerUnknown's Battlegrounds  playerunknowns-battlegrounds   \n",
       "4          5              Wii Sports Resort             wii-sports-resort   \n",
       "...      ...                            ...                           ...   \n",
       "55787  55788                    Indivisible                   indivisible   \n",
       "55788  55789                     Lost Ember                    lost-amber   \n",
       "55789  55790                     Lost Ember                    lost-amber   \n",
       "55790  55791                     Lost Ember                    lost-amber   \n",
       "55791  55792                     Falcon Age                    falcon-age   \n",
       "\n",
       "                  genre platform         publisher         developer  status  \n",
       "0                Sports      Wii          Nintendo      Nintendo EAD       1  \n",
       "1              Platform      NES          Nintendo      Nintendo EAD       1  \n",
       "2                Racing      Wii          Nintendo      Nintendo EAD       1  \n",
       "3               Shooter       PC  PUBG Corporation  PUBG Corporation       1  \n",
       "4                Sports      Wii          Nintendo      Nintendo EAD       1  \n",
       "...                 ...      ...               ...               ...     ...  \n",
       "55787      Role-Playing       PC         505 Games    Lab Zero Games       1  \n",
       "55788         Adventure       PC   Mooneye Studios   Mooneye Studios       1  \n",
       "55789         Adventure      PS4   Mooneye Studios   Mooneye Studios       1  \n",
       "55790         Adventure     XOne   Mooneye Studios   Mooneye Studios       1  \n",
       "55791  Action-Adventure      PS4           Unknown   Outerloop Games       1  \n",
       "\n",
       "[55775 rows x 8 columns]>"
      ]
     },
     "execution_count": 22,
     "metadata": {},
     "output_type": "execute_result"
    }
   ],
   "source": [
    "df3.describe"
   ]
  },
  {
   "cell_type": "code",
   "execution_count": 23,
   "id": "437f9bf9",
   "metadata": {},
   "outputs": [
    {
     "data": {
      "text/plain": [
       "count     55775\n",
       "unique       74\n",
       "top          PC\n",
       "freq      10966\n",
       "Name: platform, dtype: object"
      ]
     },
     "execution_count": 23,
     "metadata": {},
     "output_type": "execute_result"
    }
   ],
   "source": [
    "df3.platform.describe()"
   ]
  },
  {
   "cell_type": "code",
   "execution_count": 24,
   "id": "ebbfb51c",
   "metadata": {},
   "outputs": [
    {
     "data": {
      "text/plain": [
       "count     55775\n",
       "unique       20\n",
       "top        Misc\n",
       "freq       9473\n",
       "Name: genre, dtype: object"
      ]
     },
     "execution_count": 24,
     "metadata": {},
     "output_type": "execute_result"
    }
   ],
   "source": [
    "df3.genre.describe()"
   ]
  },
  {
   "cell_type": "markdown",
   "id": "346d3a3e",
   "metadata": {},
   "source": [
    "# Step 4 :Model "
   ]
  },
  {
   "cell_type": "code",
   "execution_count": 27,
   "id": "9fe4a718",
   "metadata": {},
   "outputs": [],
   "source": [
    "df4 = pd.get_dummies(df3.drop(columns = 'platform'), drop_first=True)"
   ]
  },
  {
   "cell_type": "code",
   "execution_count": 28,
   "id": "86f4cd01",
   "metadata": {},
   "outputs": [],
   "source": [
    "from sklearn.model_selection import train_test_split\n",
    "# x = df3.drop( columns = df4 ) \n",
    "x = df4\n",
    "y = df3.platform\n",
    "\n",
    "x_train,x_test,y_train,y_test = train_test_split(x,y,test_size=0.2,random_state=42)"
   ]
  },
  {
   "cell_type": "code",
   "execution_count": 1,
   "id": "dfa59fbd",
   "metadata": {},
   "outputs": [
    {
     "ename": "NameError",
     "evalue": "name 'x_train' is not defined",
     "output_type": "error",
     "traceback": [
      "\u001b[0;31m---------------------------------------------------------------------------\u001b[0m",
      "\u001b[0;31mNameError\u001b[0m                                 Traceback (most recent call last)",
      "\u001b[0;32m/var/folders/mw/ddlrwg1n7rqfx3b45n8rzr5m0000gn/T/ipykernel_1061/2446029662.py\u001b[0m in \u001b[0;36m<module>\u001b[0;34m\u001b[0m\n\u001b[1;32m      2\u001b[0m \u001b[0;32mfrom\u001b[0m \u001b[0msklearn\u001b[0m\u001b[0;34m.\u001b[0m\u001b[0mpreprocessing\u001b[0m \u001b[0;32mimport\u001b[0m \u001b[0mStandardScaler\u001b[0m\u001b[0;34m\u001b[0m\u001b[0;34m\u001b[0m\u001b[0m\n\u001b[1;32m      3\u001b[0m \u001b[0mscaler\u001b[0m \u001b[0;34m=\u001b[0m \u001b[0mStandardScaler\u001b[0m\u001b[0;34m(\u001b[0m\u001b[0;34m)\u001b[0m\u001b[0;34m\u001b[0m\u001b[0;34m\u001b[0m\u001b[0m\n\u001b[0;32m----> 4\u001b[0;31m \u001b[0mx_train_scaled\u001b[0m \u001b[0;34m=\u001b[0m \u001b[0mscaler\u001b[0m\u001b[0;34m.\u001b[0m\u001b[0mfit_transform\u001b[0m\u001b[0;34m(\u001b[0m\u001b[0mx_train\u001b[0m\u001b[0;34m)\u001b[0m\u001b[0;34m\u001b[0m\u001b[0;34m\u001b[0m\u001b[0m\n\u001b[0m\u001b[1;32m      5\u001b[0m \u001b[0mx_test_scaled\u001b[0m \u001b[0;34m=\u001b[0m \u001b[0mscaler\u001b[0m\u001b[0;34m.\u001b[0m\u001b[0mtransform\u001b[0m\u001b[0;34m(\u001b[0m\u001b[0mx_test\u001b[0m\u001b[0;34m)\u001b[0m\u001b[0;34m\u001b[0m\u001b[0;34m\u001b[0m\u001b[0m\n",
      "\u001b[0;31mNameError\u001b[0m: name 'x_train' is not defined"
     ]
    }
   ],
   "source": [
    "# feature scaling\n",
    "from sklearn.preprocessing import StandardScaler\n",
    "scaler = StandardScaler()\n",
    "x_train_scaled = scaler.fit_transform(x_train)\n",
    "x_test_scaled = scaler.transform(x_test)"
   ]
  },
  {
   "cell_type": "code",
   "execution_count": 2,
   "id": "60031638",
   "metadata": {},
   "outputs": [
    {
     "ename": "NameError",
     "evalue": "name 'x_train_scaled' is not defined",
     "output_type": "error",
     "traceback": [
      "\u001b[0;31m---------------------------------------------------------------------------\u001b[0m",
      "\u001b[0;31mNameError\u001b[0m                                 Traceback (most recent call last)",
      "\u001b[0;32m/var/folders/mw/ddlrwg1n7rqfx3b45n8rzr5m0000gn/T/ipykernel_1061/2538441104.py\u001b[0m in \u001b[0;36m<module>\u001b[0;34m\u001b[0m\n\u001b[1;32m      2\u001b[0m \u001b[0;34m\u001b[0m\u001b[0m\n\u001b[1;32m      3\u001b[0m \u001b[0mlr\u001b[0m \u001b[0;34m=\u001b[0m \u001b[0mLogisticRegression\u001b[0m\u001b[0;34m(\u001b[0m\u001b[0;34m)\u001b[0m\u001b[0;34m\u001b[0m\u001b[0;34m\u001b[0m\u001b[0m\n\u001b[0;32m----> 4\u001b[0;31m \u001b[0mlr\u001b[0m\u001b[0;34m.\u001b[0m\u001b[0mfit\u001b[0m\u001b[0;34m(\u001b[0m\u001b[0mx_train_scaled\u001b[0m\u001b[0;34m,\u001b[0m\u001b[0my_train\u001b[0m\u001b[0;34m)\u001b[0m\u001b[0;34m\u001b[0m\u001b[0;34m\u001b[0m\u001b[0m\n\u001b[0m",
      "\u001b[0;31mNameError\u001b[0m: name 'x_train_scaled' is not defined"
     ]
    }
   ],
   "source": [
    "from sklearn.linear_model import LogisticRegression\n",
    "\n",
    "lr = LogisticRegression()\n",
    "lr.fit(x_train_scaled,y_train)"
   ]
  },
  {
   "cell_type": "code",
   "execution_count": 3,
   "id": "4dbad0bd",
   "metadata": {},
   "outputs": [
    {
     "ename": "NameError",
     "evalue": "name 'x_test_scaled' is not defined",
     "output_type": "error",
     "traceback": [
      "\u001b[0;31m---------------------------------------------------------------------------\u001b[0m",
      "\u001b[0;31mNameError\u001b[0m                                 Traceback (most recent call last)",
      "\u001b[0;32m/var/folders/mw/ddlrwg1n7rqfx3b45n8rzr5m0000gn/T/ipykernel_1061/2863220525.py\u001b[0m in \u001b[0;36m<module>\u001b[0;34m\u001b[0m\n\u001b[0;32m----> 1\u001b[0;31m \u001b[0my_pred\u001b[0m \u001b[0;34m=\u001b[0m \u001b[0mlr\u001b[0m\u001b[0;34m.\u001b[0m\u001b[0mpredict\u001b[0m\u001b[0;34m(\u001b[0m\u001b[0mx_test_scaled\u001b[0m\u001b[0;34m)\u001b[0m\u001b[0;34m\u001b[0m\u001b[0;34m\u001b[0m\u001b[0m\n\u001b[0m",
      "\u001b[0;31mNameError\u001b[0m: name 'x_test_scaled' is not defined"
     ]
    }
   ],
   "source": [
    "y_pred = lr.predict(x_test_scaled)"
   ]
  },
  {
   "cell_type": "code",
   "execution_count": null,
   "id": "8d15ebb4",
   "metadata": {},
   "outputs": [],
   "source": [
    "from sklearn.metrics import classification_report\n",
    "\n",
    "print(classification_report(y_pred,y_test))"
   ]
  },
  {
   "cell_type": "code",
   "execution_count": null,
   "id": "a9c73c58",
   "metadata": {},
   "outputs": [],
   "source": [
    "# applay Random Forest\n",
    "from sklearn.ensemble import RandomForestClassifier\n",
    "rf= RandomForestClassifier()\n",
    "rf.fit(x_train_scaled,y_train)"
   ]
  },
  {
   "cell_type": "code",
   "execution_count": null,
   "id": "835dc291",
   "metadata": {},
   "outputs": [],
   "source": [
    "y_pred_rf= rf.predict(x_test_scaled)"
   ]
  },
  {
   "cell_type": "code",
   "execution_count": null,
   "id": "32ba472e",
   "metadata": {},
   "outputs": [],
   "source": [
    "from sklearn.metrics import classification_report\n",
    "\n",
    "print(classification_report(y_pred_rf,y_test))"
   ]
  },
  {
   "cell_type": "code",
   "execution_count": null,
   "id": "6172c9a4",
   "metadata": {},
   "outputs": [],
   "source": [
    "#KNN\n",
    "from sklearn.neighbors import KNeighborsClassifier\n",
    "knn = KNeighborsClassifier(n_neighbors = 10)\n",
    "knn.fit(x_train_scaled,y_train)"
   ]
  },
  {
   "cell_type": "code",
   "execution_count": null,
   "id": "02a77a83",
   "metadata": {},
   "outputs": [],
   "source": [
    "y_pred_knn = knn.predict(x_test_scaled)"
   ]
  },
  {
   "cell_type": "code",
   "execution_count": null,
   "id": "cb968ab4",
   "metadata": {},
   "outputs": [],
   "source": [
    "from sklearn.metrics import classification_report\n",
    "\n",
    "print(classification_report(y_pred_knn,y_test))"
   ]
  },
  {
   "cell_type": "code",
   "execution_count": null,
   "id": "1a957995",
   "metadata": {},
   "outputs": [],
   "source": []
  }
 ],
 "metadata": {
  "kernelspec": {
   "display_name": "Python 3 (ipykernel)",
   "language": "python",
   "name": "python3"
  },
  "language_info": {
   "codemirror_mode": {
    "name": "ipython",
    "version": 3
   },
   "file_extension": ".py",
   "mimetype": "text/x-python",
   "name": "python",
   "nbconvert_exporter": "python",
   "pygments_lexer": "ipython3",
   "version": "3.9.7"
  }
 },
 "nbformat": 4,
 "nbformat_minor": 5
}
