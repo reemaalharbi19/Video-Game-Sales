{
 "cells": [
  {
   "cell_type": "markdown",
   "id": "e566d5e5",
   "metadata": {},
   "source": [
    " # Setp 0: Import Libraries"
   ]
  },
  {
   "cell_type": "code",
   "execution_count": 1,
   "id": "6cacde18",
   "metadata": {},
   "outputs": [],
   "source": [
    "import pandas as pd\n",
    "import numpy as np\n",
    "import matplotlib.pyplot as plt\n",
    "import seaborn as sns"
   ]
  },
  {
   "cell_type": "markdown",
   "id": "ca2e8b58",
   "metadata": {},
   "source": [
    "# Setp 1: Load Dataset"
   ]
  },
  {
   "cell_type": "code",
   "execution_count": 2,
   "id": "a521d232",
   "metadata": {},
   "outputs": [],
   "source": [
    "df = pd.read_csv(\"vgsales-12-4-2019.csv\")"
   ]
  },
  {
   "cell_type": "code",
   "execution_count": 3,
   "id": "d2dccb6e",
   "metadata": {},
   "outputs": [],
   "source": [
    "df3 = df.copy()"
   ]
  },
  {
   "cell_type": "markdown",
   "id": "9f94a34a",
   "metadata": {},
   "source": [
    "# Setp 2: Claen Dataset"
   ]
  },
  {
   "cell_type": "markdown",
   "id": "46899323",
   "metadata": {},
   "source": [
    "### A. Columns"
   ]
  },
  {
   "cell_type": "markdown",
   "id": "17cce167",
   "metadata": {},
   "source": [
    "### To Call specified columns\n",
    "df.columns =['Rank','Name','basename','basename','Genre', ....]"
   ]
  },
  {
   "cell_type": "markdown",
   "id": "096734a3",
   "metadata": {},
   "source": [
    "### To Drop specified columns\n",
    "df2.drop( columns = ['img_url','NA_Sales','PAL_Sales','JP_Sales', ....], inplace=True )"
   ]
  },
  {
   "cell_type": "code",
   "execution_count": 4,
   "id": "908393d6",
   "metadata": {},
   "outputs": [],
   "source": [
    "# Drop these columns\n",
    "\n",
    "df3.drop( columns = ['ESRB_Rating','VGChartz_Score','Critic_Score','User_Score',\n",
    "                     'Total_Shipped','Global_Sales','NA_Sales','PAL_Sales',\n",
    "                     'JP_Sales','Other_Sales','Year',\n",
    "                     'Last_Update','url','Vgchartzscore','img_url'], inplace=True )"
   ]
  },
  {
   "cell_type": "code",
   "execution_count": 5,
   "id": "645a37c0",
   "metadata": {},
   "outputs": [
    {
     "data": {
      "text/plain": [
       "Rank          0\n",
       "Name          0\n",
       "basename      0\n",
       "Genre         0\n",
       "Platform      0\n",
       "Publisher     0\n",
       "Developer    17\n",
       "status        0\n",
       "dtype: int64"
      ]
     },
     "execution_count": 5,
     "metadata": {},
     "output_type": "execute_result"
    }
   ],
   "source": [
    "df3.isna().sum()"
   ]
  },
  {
   "cell_type": "code",
   "execution_count": 6,
   "id": "03fbedfd",
   "metadata": {},
   "outputs": [],
   "source": [
    "# To make the columns lower case\n",
    "\n",
    "df3.columns = df3.columns.str.lower()"
   ]
  },
  {
   "cell_type": "code",
   "execution_count": 7,
   "id": "11ecfbe3",
   "metadata": {},
   "outputs": [
    {
     "data": {
      "text/plain": [
       "Index(['rank', 'name', 'basename', 'genre', 'platform', 'publisher',\n",
       "       'developer', 'status'],\n",
       "      dtype='object')"
      ]
     },
     "execution_count": 7,
     "metadata": {},
     "output_type": "execute_result"
    }
   ],
   "source": [
    "# To show columns after modify\n",
    "\n",
    "df3.columns"
   ]
  },
  {
   "cell_type": "markdown",
   "id": "853eb5e6",
   "metadata": {},
   "source": [
    "### B. Rows (Cells)"
   ]
  },
  {
   "cell_type": "code",
   "execution_count": 8,
   "id": "b9a16802",
   "metadata": {},
   "outputs": [
    {
     "name": "stdout",
     "output_type": "stream",
     "text": [
      "The count of duplicated is:  0\n"
     ]
    }
   ],
   "source": [
    "# To check duplicate rows\n",
    "\n",
    "print('The count of duplicated is: ' , df.duplicated().sum())"
   ]
  },
  {
   "cell_type": "code",
   "execution_count": 9,
   "id": "d25130d5",
   "metadata": {},
   "outputs": [
    {
     "data": {
      "text/plain": [
       "(55792, 8)"
      ]
     },
     "execution_count": 9,
     "metadata": {},
     "output_type": "execute_result"
    }
   ],
   "source": [
    "# To shape DataFream\n",
    "\n",
    "df3.shape"
   ]
  },
  {
   "cell_type": "code",
   "execution_count": 10,
   "id": "087e3053",
   "metadata": {},
   "outputs": [],
   "source": [
    "# To Drop null value\n",
    "\n",
    "df3 = df3.replace([ ' ','NaN', 'Na','NA', '#', '?', '/'], np.nan)"
   ]
  },
  {
   "cell_type": "code",
   "execution_count": 11,
   "id": "c9588d7f",
   "metadata": {},
   "outputs": [
    {
     "data": {
      "text/plain": [
       "rank          0\n",
       "name          0\n",
       "basename      0\n",
       "genre         0\n",
       "platform      0\n",
       "publisher     0\n",
       "developer    17\n",
       "status        0\n",
       "dtype: int64"
      ]
     },
     "execution_count": 11,
     "metadata": {},
     "output_type": "execute_result"
    }
   ],
   "source": [
    "# To check the missing value\n",
    "\n",
    "df3.isna().sum()"
   ]
  },
  {
   "cell_type": "code",
   "execution_count": null,
   "id": "a5c7b981",
   "metadata": {},
   "outputs": [],
   "source": []
  },
  {
   "cell_type": "code",
   "execution_count": 20,
   "id": "5a5e963d",
   "metadata": {},
   "outputs": [
    {
     "data": {
      "text/plain": [
       "rank         0.00000\n",
       "name         0.00000\n",
       "basename     0.00000\n",
       "genre        0.00000\n",
       "platform     0.00000\n",
       "publisher    0.00000\n",
       "developer    0.03047\n",
       "status       0.00000\n",
       "dtype: float64"
      ]
     },
     "execution_count": 20,
     "metadata": {},
     "output_type": "execute_result"
    }
   ],
   "source": [
    "# To check the missing value by %\n",
    "\n",
    "(df3.isna().sum()/df3.shape[0])*100\n",
    "#print('{:.2f}',(df3.isna().sum()/df3.shape[0])*100)"
   ]
  },
  {
   "cell_type": "code",
   "execution_count": 13,
   "id": "a9ba140d",
   "metadata": {},
   "outputs": [
    {
     "data": {
      "text/html": [
       "<div>\n",
       "<style scoped>\n",
       "    .dataframe tbody tr th:only-of-type {\n",
       "        vertical-align: middle;\n",
       "    }\n",
       "\n",
       "    .dataframe tbody tr th {\n",
       "        vertical-align: top;\n",
       "    }\n",
       "\n",
       "    .dataframe thead th {\n",
       "        text-align: right;\n",
       "    }\n",
       "</style>\n",
       "<table border=\"1\" class=\"dataframe\">\n",
       "  <thead>\n",
       "    <tr style=\"text-align: right;\">\n",
       "      <th></th>\n",
       "      <th>rank</th>\n",
       "      <th>name</th>\n",
       "      <th>basename</th>\n",
       "      <th>genre</th>\n",
       "      <th>platform</th>\n",
       "      <th>publisher</th>\n",
       "      <th>developer</th>\n",
       "      <th>status</th>\n",
       "    </tr>\n",
       "  </thead>\n",
       "  <tbody>\n",
       "    <tr>\n",
       "      <th>0</th>\n",
       "      <td>1</td>\n",
       "      <td>Wii Sports</td>\n",
       "      <td>wii-sports</td>\n",
       "      <td>Sports</td>\n",
       "      <td>Wii</td>\n",
       "      <td>Nintendo</td>\n",
       "      <td>Nintendo EAD</td>\n",
       "      <td>1</td>\n",
       "    </tr>\n",
       "  </tbody>\n",
       "</table>\n",
       "</div>"
      ],
      "text/plain": [
       "   rank        name    basename   genre platform publisher     developer  \\\n",
       "0     1  Wii Sports  wii-sports  Sports      Wii  Nintendo  Nintendo EAD   \n",
       "\n",
       "   status  \n",
       "0       1  "
      ]
     },
     "execution_count": 13,
     "metadata": {},
     "output_type": "execute_result"
    }
   ],
   "source": [
    "df3.head(1)"
   ]
  },
  {
   "cell_type": "code",
   "execution_count": 14,
   "id": "8ddf4544",
   "metadata": {},
   "outputs": [
    {
     "name": "stdout",
     "output_type": "stream",
     "text": [
      "<class 'pandas.core.frame.DataFrame'>\n",
      "RangeIndex: 55792 entries, 0 to 55791\n",
      "Data columns (total 8 columns):\n",
      " #   Column     Non-Null Count  Dtype \n",
      "---  ------     --------------  ----- \n",
      " 0   rank       55792 non-null  int64 \n",
      " 1   name       55792 non-null  object\n",
      " 2   basename   55792 non-null  object\n",
      " 3   genre      55792 non-null  object\n",
      " 4   platform   55792 non-null  object\n",
      " 5   publisher  55792 non-null  object\n",
      " 6   developer  55775 non-null  object\n",
      " 7   status     55792 non-null  int64 \n",
      "dtypes: int64(2), object(6)\n",
      "memory usage: 3.4+ MB\n"
     ]
    }
   ],
   "source": [
    "df3.info()"
   ]
  },
  {
   "cell_type": "code",
   "execution_count": 15,
   "id": "4fd0e80d",
   "metadata": {},
   "outputs": [
    {
     "data": {
      "text/plain": [
       "rank          int64\n",
       "name         object\n",
       "basename     object\n",
       "genre        object\n",
       "platform     object\n",
       "publisher    object\n",
       "developer    object\n",
       "status        int64\n",
       "dtype: object"
      ]
     },
     "execution_count": 15,
     "metadata": {},
     "output_type": "execute_result"
    }
   ],
   "source": [
    "df3.dtypes"
   ]
  },
  {
   "cell_type": "code",
   "execution_count": 26,
   "id": "6c0107e9",
   "metadata": {},
   "outputs": [
    {
     "ename": "AttributeError",
     "evalue": "'DataFrame' object has no attribute 'str'",
     "output_type": "error",
     "traceback": [
      "\u001b[0;31m---------------------------------------------------------------------------\u001b[0m",
      "\u001b[0;31mAttributeError\u001b[0m                            Traceback (most recent call last)",
      "\u001b[0;32m/tmp/ipykernel_350133/1045879657.py\u001b[0m in \u001b[0;36m<module>\u001b[0;34m\u001b[0m\n\u001b[1;32m      1\u001b[0m \u001b[0;31m# To evalote\u001b[0m\u001b[0;34m\u001b[0m\u001b[0;34m\u001b[0m\u001b[0m\n\u001b[1;32m      2\u001b[0m \u001b[0;34m\u001b[0m\u001b[0m\n\u001b[0;32m----> 3\u001b[0;31m \u001b[0mdf3\u001b[0m\u001b[0;34m.\u001b[0m\u001b[0mstr\u001b[0m\u001b[0;34m.\u001b[0m\u001b[0mdropan\u001b[0m\u001b[0;34m(\u001b[0m\u001b[0;34m)\u001b[0m\u001b[0;34m\u001b[0m\u001b[0;34m\u001b[0m\u001b[0m\n\u001b[0m",
      "\u001b[0;32m~/anaconda3/envs/metis/lib/python3.9/site-packages/pandas/core/generic.py\u001b[0m in \u001b[0;36m__getattr__\u001b[0;34m(self, name)\u001b[0m\n\u001b[1;32m   5485\u001b[0m         ):\n\u001b[1;32m   5486\u001b[0m             \u001b[0;32mreturn\u001b[0m \u001b[0mself\u001b[0m\u001b[0;34m[\u001b[0m\u001b[0mname\u001b[0m\u001b[0;34m]\u001b[0m\u001b[0;34m\u001b[0m\u001b[0;34m\u001b[0m\u001b[0m\n\u001b[0;32m-> 5487\u001b[0;31m         \u001b[0;32mreturn\u001b[0m \u001b[0mobject\u001b[0m\u001b[0;34m.\u001b[0m\u001b[0m__getattribute__\u001b[0m\u001b[0;34m(\u001b[0m\u001b[0mself\u001b[0m\u001b[0;34m,\u001b[0m \u001b[0mname\u001b[0m\u001b[0;34m)\u001b[0m\u001b[0;34m\u001b[0m\u001b[0;34m\u001b[0m\u001b[0m\n\u001b[0m\u001b[1;32m   5488\u001b[0m \u001b[0;34m\u001b[0m\u001b[0m\n\u001b[1;32m   5489\u001b[0m     \u001b[0;32mdef\u001b[0m \u001b[0m__setattr__\u001b[0m\u001b[0;34m(\u001b[0m\u001b[0mself\u001b[0m\u001b[0;34m,\u001b[0m \u001b[0mname\u001b[0m\u001b[0;34m:\u001b[0m \u001b[0mstr\u001b[0m\u001b[0;34m,\u001b[0m \u001b[0mvalue\u001b[0m\u001b[0;34m)\u001b[0m \u001b[0;34m->\u001b[0m \u001b[0;32mNone\u001b[0m\u001b[0;34m:\u001b[0m\u001b[0;34m\u001b[0m\u001b[0;34m\u001b[0m\u001b[0m\n",
      "\u001b[0;31mAttributeError\u001b[0m: 'DataFrame' object has no attribute 'str'"
     ]
    }
   ],
   "source": [
    "# To evalote \n",
    "\n",
    "df3.str.dropan()"
   ]
  }
 ],
 "metadata": {
  "kernelspec": {
   "display_name": "Python 3 (ipykernel)",
   "language": "python",
   "name": "python3"
  },
  "language_info": {
   "codemirror_mode": {
    "name": "ipython",
    "version": 3
   },
   "file_extension": ".py",
   "mimetype": "text/x-python",
   "name": "python",
   "nbconvert_exporter": "python",
   "pygments_lexer": "ipython3",
   "version": "3.9.7"
  }
 },
 "nbformat": 4,
 "nbformat_minor": 5
}
